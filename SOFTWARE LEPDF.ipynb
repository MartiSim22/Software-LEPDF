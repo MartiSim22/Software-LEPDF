{
 "cells": [
  {
   "cell_type": "code",
   "execution_count": 4,
   "metadata": {},
   "outputs": [],
   "source": [
    "%matplotlib widget"
   ]
  },
  {
   "cell_type": "markdown",
   "metadata": {},
   "source": [
    "Importo il widget di matplotlib per vedere interattivamente i grafici su Jupyter Lab"
   ]
  },
  {
   "cell_type": "code",
   "execution_count": 5,
   "metadata": {},
   "outputs": [],
   "source": [
    "import pandas as pd"
   ]
  },
  {
   "cell_type": "markdown",
   "metadata": {},
   "source": [
    "Importo la libreria Pandas"
   ]
  },
  {
   "cell_type": "code",
   "execution_count": 6,
   "metadata": {},
   "outputs": [],
   "source": [
    "import camelot"
   ]
  },
  {
   "cell_type": "markdown",
   "metadata": {},
   "source": [
    "Importo la liberia Camelot di python che serve per estrarre le tabelle contenute in fogli PDF"
   ]
  },
  {
   "cell_type": "code",
   "execution_count": 7,
   "metadata": {},
   "outputs": [],
   "source": [
    "import numpy as np"
   ]
  },
  {
   "cell_type": "markdown",
   "metadata": {},
   "source": [
    "Importo la libreria Numpy"
   ]
  },
  {
   "cell_type": "code",
   "execution_count": 8,
   "metadata": {},
   "outputs": [],
   "source": [
    "import matplotlib\n",
    "import matplotlib.pyplot as plt"
   ]
  },
  {
   "cell_type": "markdown",
   "metadata": {},
   "source": [
    "Importo la libreria Matplotlib"
   ]
  },
  {
   "cell_type": "code",
   "execution_count": 9,
   "metadata": {},
   "outputs": [],
   "source": [
    "import os"
   ]
  },
  {
   "cell_type": "markdown",
   "metadata": {},
   "source": [
    "Importo il modulo OS che fornisce funzioni per interagire con il sistema operativo"
   ]
  },
  {
   "cell_type": "code",
   "execution_count": 10,
   "metadata": {},
   "outputs": [],
   "source": [
    "lista_anni = np.arange(2018,2021)\n",
    "lista_mesi = np.arange(1,13)"
   ]
  },
  {
   "cell_type": "markdown",
   "metadata": {},
   "source": [
    "Dichiaro due liste, una per gli anni e una per i mesi - QUI E' NECESSARIO L'INTERVENTO DELL'UTENTE"
   ]
  },
  {
   "cell_type": "code",
   "execution_count": 11,
   "metadata": {},
   "outputs": [],
   "source": [
    "def configurazione(mese, anno):\n",
    "    annomese = anno * 100 + mese \n",
    "    risultato = {}\n",
    "    if (annomese == 201801):\n",
    "        risultato = {'ext' : 'pdf','pages' : 'all', 'flavor' : 'stream', 'rowtol' : 23 , 'striptext' : ['\\n','.'] , 'splittext' : False , 'area' : ['129,2090,3123,67'], 'columns' : ['373,444,517,591,661,735,811,890,972,1043,1122,1199,1275,1351,1428,1504,1580,1657,1736,1810,1886,1962,2036,2115,2188,2268,2344,2420,2500,2573,2652,2726,2799,2879,2955,3031']}\n",
    "    if (annomese == 201802):\n",
    "        risultato = {'ext' : 'pdf','pages' : 'all', 'flavor' : 'stream', 'rowtol' : 23 , 'striptext' : ['\\n','.'] , 'splittext' : True, 'area' : ['120,1740,2595,54'], 'columns' : ['313,388,448,507,572,634,694,769,842,901,964,1023,1080,1143,1205,1267,1327,1384,1446,1509,1568,1630,1690,1765,1825,1887,1947,2012,2071,2134,2191,2250,2313,2388,2450,2505']}\n",
    "    if (annomese == 201803):\n",
    "        risultato = {'ext' : 'pdf','pages' : 'all', 'flavor' : 'stream', 'rowtol' : 23 , 'striptext' : ['\\n','.'], 'splittext' : True, 'area' : ['64,1700,2546,84'], 'columns' : ['266,332,394,455,514,591,650,724,799,860,924,978,1040,1102,1166,1225,1277,1339,1403,1468,1517,1576,1651,1728,1780,1855,1916,1978,2038,2092,2146,2208,2270,2344,2406,2458']}\n",
    "    if (annomese == 201804):\n",
    "        risultato = {'ext' : 'pdf','pages' : 'all', 'flavor' : 'stream', 'rowtol' : 23 , 'striptext' : ['\\n','.'], 'splittext' : False, 'area' : ['46,1860,2656,59'], 'columns' : ['270,338,403,470,535,603,671,747,828,885,950,1010,1069,1134,1200,1267,1330,1384,1452,1517,1576,1641,1709,1774,1834,1912,1977,2042,2113,2173,2227,2295,2360,2438,2506,2563']}\n",
    "    if (annomese == 201805):\n",
    "        risultato = {'ext' : 'pdf','pages' : 'all', 'flavor' : 'stream', 'rowtol' : 23 , 'striptext' : ['\\n','.'] , 'splittext' : False, 'area' : ['151,1810,2656,61'], 'columns' : ['365,433,496,557,622,683,746,824,900,950,1016,1071,1126,1187,1252,1318,1368,1421,1487,1550,1603,1666,1744,1819,1872,1948,2008,2071,2140,2192,2245,2311,2371,2444,2515,2565']}\n",
    "    if (annomese == 201806):\n",
    "        risultato = {'ext' : 'pdf','pages' : 'all', 'flavor' : 'stream', 'rowtol' : 23 , 'striptext' : ['\\n','.'] , 'splittext' : False, 'area' : ['43,1788,2705,58'], 'columns' : ['241,305,370,440,502,569,639,719,800,862,926,1004,1069,1133,1201,1268,1335,1397,1461,1531,1593,1658,1725,1795,1859,1937,2002,2069,2134,2204,2265,2330,2397,2478,2545,2612']}\n",
    "    if (annomese == 201807):\n",
    "        risultato = {'ext' : 'pdf','pages' : 'all', 'flavor' : 'stream', 'rowtol' : 23 , 'striptext' : ['\\n','.'] , 'splittext' : False, 'area' : ['34,1880,2754,51'], 'columns' : ['233,303,374,441,509,576,643,727,797,862,932,997,1061,1129,1196,1264,1337,1401,1469,1536,1604,1671,1739,1809,1876,1960,2027,2095,2162,2230,2300,2367,2437,2518,2588,2653']}\n",
    "    if (annomese == 201808):\n",
    "        risultato = {'ext' : 'pdf','pages' : 'all', 'flavor' : 'stream', 'rowtol' : 23 , 'striptext' : ['\\n','.'] , 'splittext' : False, 'area' : ['30,1700,2582,34'], 'columns' : ['223,292,358,424,491,557,623,699,770,832,898,949,1001,1065,1133,1197,1251,1315,1384,1450,1514,1577,1641,1712,1779,1842,1906,1975,2043,2110,2174,2240,2306,2372,2441,2500']}\n",
    "    if (annomese == 201809):\n",
    "        risultato = {'ext' : 'pdf','pages' : 'all', 'flavor' : 'stream', 'rowtol' : 23,'striptext' : ['\\n','.'] , 'splittext' : False, 'area' : ['32,1660,2585,64'], 'columns' : ['239,305,369,431,497,561,625,702,768,830,896,965,1029,1093,1156,1221,1283,1347,1409,1480,1534,1598,1665,1726,1791,1857,1916,1983,2049,2111,2172,2234,2300,2362,2426,2493']}\n",
    "    if (annomese == 201810):\n",
    "        risultato = {'ext' : 'pdf','pages' : 'all', 'flavor' : 'stream', 'rowtol' : 23,'striptext' : ['\\n','.'] , 'splittext' : False, 'area' : ['299,1900,2940,213'], 'columns' : ['509,576,641,705,772,837,901,984,1061,1125,1195,1270,1332,1396,1463,1530,1592,1657,1721,1791,1853,1917,1979,2051,2113,2178,2242,2309,2374,2438,2502,2569,2634,2714,2781,2846']}\n",
    "    if (annomese == 201811):\n",
    "        risultato = {'ext' : 'pdf','pages' : 'all', 'flavor' : 'stream', 'rowtol' : 23 , 'striptext' : ['\\n','.'] , 'splittext' : False, 'area' : ['88,1750,2815,48'], 'columns' : ['306,380,448,516,582,650,718,797,866,934,1005,1082,1148,1218,1285,1354,1421,1491,1555,1624,1691,1758,1827,1897,1964,2030,2097,2167,2236,2306,2370,2437,2506,2586,2653,2720']}\n",
    "    if (annomese == 201812):\n",
    "        risultato = {'ext' : 'pdf','pages' : 'all', 'flavor' : 'stream', 'rowtol' : 23 , 'striptext' : ['\\n','.'] , 'splittext' : False, 'area' : ['207,1800,2799,50'], 'columns' : ['416,487,552,617,680,745,810,888,956,1019,1086,1137,1199,1265,1330,1398,1460,1526,1591,1659,1721,1787,1852,1920,1982,2045,2110,2176,2241,2309,2371,2437,2502,2577,2645,2708']}\n",
    "    if (annomese == 201901):\n",
    "        risultato = {'ext' : 'pdf','pages' : 'all', 'flavor' : 'stream', 'rowtol' : 23 , 'striptext' : ['\\n','.'] , 'splittext' : False , 'area' : ['201,1930,2813,209'] , 'columns' : ['394,462,526,588,655,720,781,860,945,1000,1079,1139,1205,1272,1346,1413,1465,1532,1596,1675,1727,1792,1854,1944,1997,2063,2128,2194,2266,2336,2390,2454,2516,2592,2664,2723']}\n",
    "    if (annomese == 201902):\n",
    "        risultato = {'ext' : 'pdf','pages' : 'all', 'flavor' : 'stream', 'rowtol' : 23 , 'striptext' : ['\\n','.'] , 'splittext' : True , 'area' : ['58,1710,2538,63'] , 'columns' : ['333,396,459,511,580,641,705,777,847,903,964,1019,1082,1144,1206,1257,1311,1371,1434,1491,1545,1610,1671,1742,1797,1853,1923,1981,2037,2090,2142,2206,2267,2342,2401,2455']}\n",
    "    if (annomese == 201903):\n",
    "        risultato = {'ext' : 'pdf','pages' : 'all', 'flavor' : 'stream', 'rowtol' : 23 , 'striptext' : ['\\n','.'] , 'splittext' : False , 'area' : ['170,1920,2853,119'] , 'columns' : ['379,454,524,590,656,724,792,873,961,1013,1091,1143,1210,1277,1353,1408,1466,1529,1600,1674,1725,1798,1876,1964,2015,2097,2166,2231,2308,2370,2419,2487,2555,2635,2710,2763']}\n",
    "    if (annomese == 201904):\n",
    "        risultato = {'ext' : 'pdf','pages' : 'all', 'flavor' : 'stream', 'rowtol' : 23 , 'striptext' : ['\\n','.'] , 'splittext' : False , 'area' : ['52,1750,2740,33'] , 'columns' : ['257,342,407,472,538,601,670,754,844,894,979,1037,1103,1168,1248,1314,1379,1431,1496,1578,1628,1692,1763,1850,1904,1970,2035,2102,2182,2244,2298,2363,2434,2512,2590,2647']}\n",
    "    if (annomese == 201905):\n",
    "        risultato = {'ext' : 'pdf','pages' : 'all', 'flavor' : 'stream', 'rowtol' : 23 , 'striptext' : ['\\n','.'] , 'splittext' : False , 'area' : ['68,1720,2586,62'] , 'columns' : ['280,352,417,483,549,615,681,757,833,884,950,1000,1065,1131,1198,1250,1299,1347,1415,1480,1530,1593,1672,1750,1799,1875,1939,2005,2073,2124,2173,2237,2301,2381,2445,2494']}\n",
    "    if (annomese == 201906):\n",
    "        risultato = {'ext' : 'pdf','pages' : 'all', 'flavor' : 'stream', 'rowtol' : 23 , 'striptext' : ['\\n','.'] , 'splittext' : False , 'area' : ['147,1732,2660,49'] , 'columns' : ['345,432,496,562,626,694,758,836,906,966,1034,1082,1146,1214,1281,1332,1380,1444,1512,1578,1626,1692,1758,1823,1874,1950,2014,2078,2144,2197,2244,2310,2376,2454,2518,2570']}\n",
    "    if (annomese == 201907):\n",
    "        risultato = {'ext' : 'pdf','pages' : 'all', 'flavor' : 'stream', 'rowtol' : 23 , 'striptext' : ['\\n','.'] , 'splittext' : False , 'area' : ['74,1580,2479,49'] , 'columns' : ['261,340,405,470,532,597,659,733,798,847,909,958,1022,1086,1157,1199,1246,1295,1360,1423,1472,1534,1599,1664,1710,1773,1833,1898,1963,2012,2063,2123,2188,2264,2326,2398']}\n",
    "    if (annomese == 201908):\n",
    "        risultato = {'ext' : 'pdf','pages' : 'all', 'flavor' : 'stream', 'rowtol' : 23 , 'striptext' : ['\\n','.'] , 'splittext' : False , 'area' : ['34,1580,2443,29'] , 'columns' : ['238,305,368,435,501,566,633,707,776,824,891,940,1007,1072,1125,1175,1226,1273,1342,1391,1443,1508,1571,1641,1687,1752,1819,1884,1949,2000,2052,2117,2182,2249,2298,2363']}\n",
    "    if (annomese == 201909):\n",
    "        risultato = {'ext' : 'pdf','pages' : 'all', 'flavor' : 'stream', 'rowtol' : 23 , 'striptext' : ['\\n','.'] , 'splittext' : False , 'area' : ['33,1750,2571,68'] , 'columns' : ['223,291,355,416,480,546,608,683,762,811,900,947,1007,1073,1156,1209,1266,1328,1392,1465,1519,1583,1642,1716,1770,1836,1895,1964,2035,2099,2155,2215,2280,2353,2431,2481']}\n",
    "    if (annomese == 201910):\n",
    "        risultato = {'ext' : 'pdf','pages' : 'all', 'flavor' : 'stream', 'rowtol' : 23 , 'striptext' : ['\\n','.'] , 'splittext' : False , 'area' : ['71,1800,2810,118'] , 'columns' : ['283,363,432,499,566,636,700,780,868,930,1006,1077,1144,1211,1300,1358,1415,1482,1549,1626,1686,1755,1825,1902,1959,2029,2093,2163,2240,2307,2369,2433,2501,2580,2663,2717']}\n",
    "    if (annomese == 201911):\n",
    "        risultato = {'ext' : 'pdf','pages' : 'all', 'flavor' : 'stream', 'rowtol' : 23 , 'striptext' : ['\\n','.'] , 'splittext' : False , 'area' : ['71,1800,2813,117'] , 'columns' : ['288,364,430,498,566,634,702,786,869,922,1014,1069,1135,1203,1296,1350,1410,1476,1544,1621,1680,1746,1816,1889,1950,2018,2086,2157,2238,2296,2359,2427,2497,2578,2657,2717']}\n",
    "    if (annomese == 201912):\n",
    "        risultato = {'ext' : 'pdf','pages' : 'all', 'flavor' : 'stream', 'rowtol' : 23 , 'striptext' : ['\\n','.'] , 'splittext' : False , 'area' : ['85,1750,2723,87'] , 'columns' : ['290,366,434,498,566,628,695,772,853,904,990,1046,1111,1185,1249,1316,1372,1437,1504,1581,1636,1701,1769,1840,1898,1963,2030,2095,2169,2241,2290,2357,2424,2498,2573,2633']}\n",
    "    if (annomese == 202001):\n",
    "        risultato = {'ext' : 'pdf','pages' : 'all', 'flavor' : 'stream', 'rowtol' : 23 , 'striptext' : ['\\n','.'] , 'splittext' : False , 'area' : ['31,1650,2579,40'], 'columns' : ['228,297,363,429,494,560,631,687,763,837,887,958,1010,1076,1142,1208,1274,1339,1408,1463,1529,1595,1666,1718,1787,1850,1921,1982,2037,2090,2171,2213,2282,2358,2432,2484']}\n",
    "    if (annomese == 202002):\n",
    "        risultato = {'ext' : 'pdf','pages' : 'all', 'flavor' : 'stream', 'rowtol' : 23 , 'striptext' : ['\\n','.'] , 'splittext' : False, 'area' : ['34,1799,2776,34'], 'columns' : ['246,316,383,450,520,587,672,721,803,896,958,1042,1095,1165,1232,1299,1369,1433,1515,1571,1638,1708,1801,1854,1924,1988,2073,2137,2204,2262,2344,2397,2464,2543,2627,2683']}\n",
    "    if (annomese == 202003):\n",
    "        risultato = {'ext' : 'pdf','pages' : 'all', 'flavor' : 'stream', 'rowtol' : 7 , 'striptext' : ['\\n','.'] , 'splittext' : False, 'area' : ['3,520,743,47'], 'columns' : ['71,85,108,122,141,158,184,196,213,237,258,276,290,314,332,349,365,387,405,424,442,456,479,493,515,533,551,574,591,603,626,640,658,681,699,713']}\n",
    "    if (annomese == 202004):\n",
    "        risultato = {'ext' : 'pdf','pages' : 'all', 'flavor' : 'stream', 'rowtol' : 23 , 'striptext' : ['\\n','.'] , 'splittext' : False, 'area' : ['52,1720,2532,54'] , 'columns' : ['257,331,392,445,512,583,647,698,759,838,907,973,1034,1088,1145,1208,1272,1335,1402,1461,1526,1590,1650,1711,1776,1844,1906,1979,2033,2094,2158,2218,2285,2354,2414,2464']}\n",
    "    if (annomese == 202005):\n",
    "        risultato = {'ext' : 'pdf','pages' : 'all', 'flavor' : 'stream', 'rowtol' : 23 , 'striptext' : ['\\n','.'] , 'splittext' : True, 'area' : ['28,1580,2450,42','28,1660,2450,42'] , 'columns' : ['220,286,347,421,480,540,603,656,726,789,855,915,975,1036,1096,1157,1219,1282,1343,1403,1466,1521,1584,1642,1708,1771,1833,1891,1948,2013,2078,2134,2194,2259,2319,2377','220,286,347,421,480,540,603,656,726,789,855,915,975,1036,1096,1157,1219,1282,1343,1403,1466,1521,1584,1642,1708,1771,1833,1891,1948,2013,2078,2134,2194,2259,2319,2377']}\n",
    "    if (annomese == 202006):\n",
    "        risultato = {'ext' : 'pdf','pages' : 'all', 'flavor' : 'stream', 'rowtol' : 20 , 'striptext' : ['\\n','.'] , 'splittext' : True, 'area' : ['100,1668,2614,87'], 'columns' : ['291,358,423,485,548,612,688,742,807,880,940,1018,1072,1134,1197,1262,1324,1386,1462,1513,1575,1640,1716,1765,1829,1892,1967,2027,2097,2143,2219,2270,2349,2406,2481,2535']}\n",
    "    if (annomese == 202007):\n",
    "        risultato = {'ext' : 'pdf','pages' : 'all', 'flavor' : 'stream', 'rowtol' : 23 , 'striptext' : ['\\n','.'] , 'splittext' : True, 'area' : ['30,1710,2561,111'] , 'columns' : ['229,297,360,423,485,548,624,681,746,812,874,950,1008,1070,1136,1201,1261,1324,1389,1452,1512,1577,1642,1702,1768,1828,1898,1958,2023,2081,2151,2209,2279,2345,2407,2470']}\n",
    "    if (annomese == 202008):\n",
    "        risultato = {'ext' : 'pdf','pages' : 'all', 'flavor' : 'stream', 'rowtol' : 23 , 'striptext' : ['\\n','.'] , 'splittext' : False, 'area' : ['40,1918,2827,108','40,1920,2827,108'] , 'columns' : ['267,342,411,481,547,619,694,760,841,915,982,1054,1120,1192,1264,1336,1403,1478,1550,1619,1688,1757,1832,1899,1971,2043,2115,2184,2256,2325,2398,2463,2536,2608,2680,2749','267,342,411,481,547,619,694,760,841,915,982,1054,1120,1192,1264,1336,1403,1478,1550,1619,1688,1757,1832,1899,1971,2043,2115,2184,2256,2325,2398,2463,2536,2608,2680,2749']}\n",
    "    if (annomese == 202009):\n",
    "        risultato = {'ext' : 'pdf','pages' : 'all', 'flavor' : 'stream', 'rowtol' : 23,'striptext' : ['\\n','.'] , 'splittext' : False, 'area' : ['256,1900,2868,117'], 'columns' : ['463,534,602,667,735,803,873,925,1006,1085,1155,1225,1278,1346,1413,1481,1549,1614,1682,1737,1805,1870,1943,1995,2074,2144,2209,2267,2324,2377,2444,2499,2567,2648,2716,2771']}\n",
    "    if (annomese == 202010):\n",
    "        risultato = {'ext' : 'pdf','pages' : 'all', 'flavor' : 'stream', 'rowtol' : 10,'striptext' : ['\\n','.'] , 'splittext' : False, 'area' : ['112,1700,2606,160','112,1800,2606,160'] , 'columns' : ['339,385,450,514,574,639,701,763,825,888,954,1026,1093,1150,1220,1282,1342,1409,1469,1531,1595,1660,1722,1784,1847,1911,1976,2036,2106,2165,2232,2294,2358,2417,2484,2543','339,385,450,514,574,639,701,763,825,888,954,1026,1093,1150,1220,1282,1342,1409,1469,1531,1595,1660,1722,1784,1847,1911,1976,2036,2106,2165,2232,2294,2358,2417,2484,2543']}\n",
    "    if (annomese == 202011):\n",
    "        risultato = {'ext' : 'pdf','pages' : 'all', 'flavor' : 'stream', 'rowtol' : 23 , 'striptext' : ['\\n','.'] , 'splittext' : False, 'area' : ['34,1850,2825,34'] , 'columns' : ['247,320,385,458,523,597,675,735,816,898,957,1039,1098,1169,1253,1321,1380,1451,1535,1595,1665,1735,1820,1876,1950,2017,2102,2181,2243,2299,2384,2440,2511,2590,2674,2731']}\n",
    "    if (annomese == 202012):\n",
    "        risultato = {'ext' : 'pdf','pages' : 'all', 'flavor' : 'stream', 'rowtol' : 23 , 'striptext' : ['\\n','.'] , 'splittext' : True, 'area' : ['31,1650,2580,88'] , 'columns' : ['235,304,376,436,498,561,624,684,759,825,890,965,1023,1086,1156,1223,1274,1341,1404,1469,1530,1592,1655,1720,1783,1846,1908,1974,2034,2097,2162,2222,2285,2362,2429,2484']}\n",
    "    return risultato "
   ]
  },
  {
   "cell_type": "markdown",
   "metadata": {},
   "source": [
    "Creo una funzione di configurazione che sceglie quali parametri utilizzare per ogni file. In questo caso in base al nome del file (es.2019_1) la funzione sceglie la condizione adatta da associare al file - QUI E' NECESSARIO L'INTERVENTO DELL'UTENTE"
   ]
  },
  {
   "cell_type": "code",
   "execution_count": 12,
   "metadata": {},
   "outputs": [],
   "source": [
    "date_toskip = []"
   ]
  },
  {
   "cell_type": "markdown",
   "metadata": {},
   "source": [
    "Dichiaro un array che contiene i nomi dei file che non devono essere estratti (es. non esistono o non sono interessato a estrarne le tabelle) - QUI E' NECESSARIO L'INTERVENTO DELL'UTENTE"
   ]
  },
  {
   "cell_type": "code",
   "execution_count": 13,
   "metadata": {},
   "outputs": [],
   "source": [
    "function_count = 0 "
   ]
  },
  {
   "cell_type": "markdown",
   "metadata": {},
   "source": [
    "Inizializzo a 0 la variabile che conta il numero di volte in cui ho eseguito la funzione. Il valore di tale variabile verrà aggiornato ogni volta che eseguo la funzione."
   ]
  },
  {
   "cell_type": "code",
   "execution_count": 14,
   "metadata": {},
   "outputs": [],
   "source": [
    "all_tables =[]"
   ]
  },
  {
   "cell_type": "markdown",
   "metadata": {},
   "source": [
    "Dichiaro un array vuoto in cui successivamente inserirò i valori di tutti i dataframe delle tabelle estratte dai miei file "
   ]
  },
  {
   "cell_type": "code",
   "execution_count": 15,
   "metadata": {},
   "outputs": [],
   "source": [
    "colname={\"PROVINCIA DI\": \"PROVINCIA\", \n",
    "           \"PROVINCIA DI RESIDENZA\" : \"PROVINCIA\" ,\n",
    "           \"RYSLER/JEEP DODGE\": \"CHRYSLER/JEEP/DODGE\", \n",
    "           \"RYSLER/JEEP/DODGE\": \"CHRYSLER/JEEP/DODGE\", \n",
    "           \"CHRYSLER/JEEP DODGE\" : \"CHRYSLER/JEEP/DODGE\",\n",
    "           \"CHRYSLER\" : \"CHRYSLER/JEEP/DODGE\" ,\n",
    "           \"HRYSLER/JEEP/DODGE\" : \"CHRYSLER/JEEP/DODGE\" , \n",
    "           \"HRYSLER/JEEP DODGE\" : \"CHRYSLER/JEEP/DODGE\",\n",
    "           \"CHRYSLER/JEEP  DODGE\" : \"CHRYSLER/JEEP/DODGE\",\n",
    "           \"CHRYSLER/JEEP/ DODGE\" : \"CHRYSLER/JEEP/DODGE\",\n",
    "           \"CITROEN\" : \"CITROEN/DS\",\n",
    "           'LFA ROMEO' : 'ALFA ROMEO', \n",
    "           'OYOTA/LEXUS' : 'TOYOTA/LEXUS',\n",
    "           \"TOYOTA\" : \"TOYOTA/LEXUS\" ,\n",
    "           \"YOTA/LEXUS\" : \"TOYOTA/LEXUS\" , \n",
    "           \"OLKSWAGEN\" : \"VOLKSWAGEN\" , \n",
    "           \"AND ROVER\" : \"LAND ROVER\" , \n",
    "           \"SANGYONG\" : \"SSANGYONG\",\n",
    "           \"SSANGJONG\" : \"SSANGYONG\",\n",
    "           \"SLA MOTORS\" : \"TESLA MOTORS\",\n",
    "           \"ESLA MOTORS\" : \"TESLA MOTORS\",\n",
    "           \"Totale\" : \"TOTALE\"}\n"
   ]
  },
  {
   "cell_type": "markdown",
   "metadata": {},
   "source": [
    "Array contenente le ridenominazioni delle colonne delle mie tabelle qualora siano state estratte in maniera incompleta/errata. Lo scopo è di uniformare i nomi delle colonne di ogni tabella - QUI E' NECESSARIO L'INTERVENTO DELL'UTENTE"
   ]
  },
  {
   "cell_type": "code",
   "execution_count": 16,
   "metadata": {},
   "outputs": [],
   "source": [
    "indexname = {'BARLETTA-ANDRIATRANI' : 'BARLETTA-ANDRIA-TRANI',\n",
    "             'BRIANZA' : 'MONZA E DELLA BRIANZA',\n",
    "             'BARI BARLETTA-' : 'BARI',\n",
    "             'ANDRIA-TRANI' : 'BARLETTA-ANDRIA-TRANI',\n",
    "             'ASCOLI PICENO' : 'ASCOLIPICENO'\n",
    "            }"
   ]
  },
  {
   "cell_type": "markdown",
   "metadata": {},
   "source": [
    "Array contenente le ridenominazioni delle righe delle mie tabelle qualora siano state estratte in maniera incompleta/errata. Lo scopo è di uniformare i nomi delle righe di ogni tabella - QUI E' NECESSARIO L'INTERVENTO DELL'UTENTE"
   ]
  },
  {
   "cell_type": "code",
   "execution_count": 17,
   "metadata": {},
   "outputs": [],
   "source": [
    "subset=['DATA', 'PROVINCIA']"
   ]
  },
  {
   "cell_type": "markdown",
   "metadata": {},
   "source": [
    "Lista contenente il nome/i delle colonne di cui voglio verificare i valori. La lista viene chiamata nella funzione \"drop_duplicates\" e permette di eliminare righe \"doppie\", ovvero righe i cui valori sono identici per le due colonne selezionate. - QUI E' NECESSARIO L'INTERVENTO DELL'UTENTE"
   ]
  },
  {
   "cell_type": "code",
   "execution_count": 18,
   "metadata": {},
   "outputs": [],
   "source": [
    "riga = [\"MESSINA\"]\n",
    "colonna = ['DATA' , 'TOTALE']"
   ]
  },
  {
   "cell_type": "markdown",
   "metadata": {},
   "source": [
    "Dichiaro due variabili che indicano il valore/i delle righe e il nome/i della colonne che voglio cercare nel file. - QUI E' NECESSARIO L'INTERVENTO DELL'UTENTE"
   ]
  },
  {
   "cell_type": "code",
   "execution_count": null,
   "metadata": {},
   "outputs": [
    {
     "name": "stdout",
     "output_type": "stream",
     "text": [
      "Inizio estrazione numero: 4\n",
      "\n",
      "Questo è il file:\t2018_1.pdf\n"
     ]
    }
   ],
   "source": [
    "print (\"Inizio estrazione numero:\",function_count+1)#inserisco un print che segnala l'inizio dell'estrazione\n",
    "global function_count \n",
    "function_count += 1 \n",
    "for anno in lista_anni:\n",
    "    for mese in lista_mesi:       #scorro la lista degli anni e la lista dei mesi\n",
    "        myconfig = configurazione(mese,anno)#richiamo qui la funzione di configurazione definita precedentemente \n",
    "        data=str(anno) + '_' + str(mese)\n",
    "        if data in date_toskip: \n",
    "            continue\n",
    "        file = os.path.abspath(\"DATI/\" + data + '.' + myconfig['ext']) #apro i file dalla mia cartella e li trovo in base a come li ho rinominati - QUI E' NECESSARIO L'INTERVENTO DELL'UTENTE\n",
    "        print(\"\\nQuesto è il file:\\t\" + data + '.' + myconfig['ext']) #inserisco un print per visionare uno ad uno i file che il programma sta leggendo\n",
    "        if (function_count==1) : #quando eseguo la funzione la prima volta \n",
    "            tables= camelot.read_pdf(file,  pages=myconfig['pages'], flavor=myconfig['flavor']) #eseguo la funzione read_pdf con i parametri BASE della mia configurazione -  QUI E' NECESSARIO L'INTERVENTO DELL'UTEN                      \n",
    "            tables.n #salva il numero delle tabelle trovate in ogni file\n",
    "            for i in range(0,tables.n):\n",
    "                print(\"\\nQuesta è la struttura della tabella numero:\" , i+1)\n",
    "                print('\\n',tables[i]) #mi indica la struttura della tabella, quante colonne e righe ha \n",
    "                print(tables[i].parsing_report)\n",
    "                print(\"\\nQuesto grafico mostra il dato testuale ricavato dalla tabella:\")\n",
    "                camelot.plot(tables[i], kind='text').show()  #mostra come viene parsato il dato testuale da Camelot, utile per ricavare le coordinate delle colonne\n",
    "                print(\"Questo grafico mostra l'area della tabella individuata per l'estrazione dei dati:\")\n",
    "                camelot.plot(tables[i], kind='contour').show() #grafico che mi mostra l'area della tabella presa in considerazione, utile per ricavare le coordinate da inserire per l'area\n",
    "                temp_df = tables[i].df #grazie a Panda creo il dataframe della tabella\n",
    "                temp_df1=tables[0].df\n",
    "                df=temp_df.replace(r'^\\s*$', np.nan, regex=True).rename(columns=temp_df1.iloc[0]).drop(temp_df.index[0]) #ogni tabella avrà come header i nomi delle colonne della prima riga estratta dalla tabella della prima pagina\n",
    "                print(\"\\nQuesto è il dataframe:\\n\\n\", df,'\\n')\n",
    "                print(\"\\nQueste sono le colonne:\\n\\n\", df.columns,'\\n')\n",
    "        else : #quando eseguo la funzione dalla seconda volta in poi\n",
    "            tables= camelot.read_pdf(file,  pages=myconfig['pages'], flavor=myconfig['flavor'],  row_tol=myconfig['rowtol'], strip_text=myconfig['striptext'] ,split_text=myconfig['splittext'], table_areas=myconfig['area'],  columns=myconfig['columns']) #eseguo la funzione read_pdf con i parametri precedentemente settati nella mia configurazione -  QUI E' NECESSARIO L'INTERVENTO DELL'UTEN                      \n",
    "            tables.n #salva il numero delle tabelle trovate in ogni file\n",
    "            for i in range(0,tables.n):\n",
    "                print(\"\\nQuesta è la struttura della tabella numero:\" , i+1)\n",
    "                print('\\n',tables[i]) #mi indica la struttura della tabella, quante colonne e righe ha \n",
    "                print(tables[i].parsing_report)\n",
    "                print(\"\\nQuesto grafico mostra il dato testuale ricavato dalla tabella:\")\n",
    "                camelot.plot(tables[i], kind='text').show()  #mostra come viene parsato il dato testuale da Camelot, utile per ricavare le coordinate delle colonne\n",
    "                print(\"Questo grafico mostra l'area della tabella individuata per l'estrazione dei dati:\")\n",
    "                camelot.plot(tables[i], kind='contour').show() #grafico che mi mostra l'area della tabella presa in considerazione, utile per ricavare le coordinate da inserire per l'area\n",
    "                temp_df = tables[i].df #grazie a Panda creo il dataframe della tabella\n",
    "                temp_df1=tables[0].df\n",
    "                df=temp_df.replace(r'^\\s*$', np.nan, regex=True).rename(columns=temp_df1.iloc[0]).drop(temp_df.index[0]) #ogni tabella avrà come header i nomi delle colonne della prima riga estratta dalla tabella della prima pagina\n",
    "                df.rename(columns=colname, inplace=True)\n",
    "                print(\"\\nQuesto è il dataframe:\\n\\n\", df,'\\n')\n",
    "                print(\"\\nQueste sono le colonne:\\n\\n\", df.columns,'\\n')\n",
    "                date=[] #creo un array vuoto in cui andrò a salvare la data corrispondente al file per ogni valore estratto\n",
    "                for i in range (0, len(df)):\n",
    "                    date.append(str(anno) + '-' + str(mese) + '-01')\n",
    "                df['DATA']=date\n",
    "                all_tables.append(df)\n",
    "if (function_count > 1) :\n",
    "    dftot=pd.concat(all_tables, axis=0, ignore_index=True) #concateno tutti i dataframe ricavati dalla lettura di ogni file\n",
    "    dftot.drop_duplicates(subset=subset, inplace=True) #elimino le eventuali righe doppie\n",
    "    dftot.fillna(0,inplace=True) #tutti i valori NAN diventano 0\n",
    "    dftot.set_index(\"PROVINCIA\" ,inplace=True) #settare il nuovo indice della tabella - QUI E' NECESSARIO L'INTERVENTO DELL'UTENTE\n",
    "    dftot.rename(index=indexname,inplace=True)\n",
    "    brand = dftot.loc[riga, colonna] #richiamo le due variabili che contengono i valori della/e riga/righe e colonna/e da estrarre\n",
    "    print('\\nQuesta è la tabella con i miei brand scelti:\\n')\n",
    "    print(brand) #utilizzare il comando print(brand) per visualizzare il dataframe degli specifici valori che ho estratto\n",
    "    brand.to_csv(\"MESSINA.csv\") #è opportuno chiamare il file.csv con il nome del brand estratto, in questo caso si chiamerà come il nome della riga estratta - QUI E' NECESSARIO L'INTERVENTO DELL'UTENTE"
   ]
  },
  {
   "cell_type": "code",
   "execution_count": null,
   "metadata": {},
   "outputs": [],
   "source": []
  }
 ],
 "metadata": {
  "kernelspec": {
   "display_name": "Python 3",
   "language": "python",
   "name": "python3"
  },
  "language_info": {
   "codemirror_mode": {
    "name": "ipython",
    "version": 3
   },
   "file_extension": ".py",
   "mimetype": "text/x-python",
   "name": "python",
   "nbconvert_exporter": "python",
   "pygments_lexer": "ipython3",
   "version": "3.8.2"
  }
 },
 "nbformat": 4,
 "nbformat_minor": 4
}
